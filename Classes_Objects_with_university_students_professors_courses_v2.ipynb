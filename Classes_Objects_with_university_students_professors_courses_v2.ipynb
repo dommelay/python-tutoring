{
 "cells": [
  {
   "cell_type": "markdown",
   "id": "244ef4ca",
   "metadata": {},
   "source": [
    "# Typing Hints\n",
    "\n",
    "https://docs.python.org/3/library/typing.html\n",
    "\n",
    "The Python runtime does not enforce function and variable type annotations. They can be used by third party tools such as type checkers, IDEs, linters, etc.\n",
    "\n",
    "Linters are programs that advise about code quality by displaying warnings and errors. They can detect your Python code mistakes, notice invalid code patterns and find elements that do not follow your conventions.\n",
    "\n",
    "https://realpython.com/python-code-quality/"
   ]
  },
  {
   "cell_type": "code",
   "execution_count": 1,
   "id": "0bb56529",
   "metadata": {},
   "outputs": [],
   "source": [
    "# Function takes as input a string argument and returns a string output\n",
    "\n",
    "def greeting(name: str) -> str:\n",
    "    return 'Hello ' + name"
   ]
  },
  {
   "cell_type": "code",
   "execution_count": 2,
   "id": "26049cbb",
   "metadata": {},
   "outputs": [
    {
     "data": {
      "text/plain": [
       "'Hello Ann'"
      ]
     },
     "execution_count": 2,
     "metadata": {},
     "output_type": "execute_result"
    }
   ],
   "source": [
    "greeting('Ann')"
   ]
  },
  {
   "cell_type": "code",
   "execution_count": 3,
   "id": "74c38a22",
   "metadata": {},
   "outputs": [
    {
     "ename": "TypeError",
     "evalue": "can only concatenate str (not \"int\") to str",
     "output_type": "error",
     "traceback": [
      "\u001b[0;31m---------------------------------------------------------------------------\u001b[0m",
      "\u001b[0;31mTypeError\u001b[0m                                 Traceback (most recent call last)",
      "Cell \u001b[0;32mIn[3], line 1\u001b[0m\n\u001b[0;32m----> 1\u001b[0m greeting(\u001b[38;5;241m42\u001b[39m)\n",
      "Cell \u001b[0;32mIn[1], line 4\u001b[0m, in \u001b[0;36mgreeting\u001b[0;34m(name)\u001b[0m\n\u001b[1;32m      3\u001b[0m \u001b[38;5;28;01mdef\u001b[39;00m \u001b[38;5;21mgreeting\u001b[39m(name: \u001b[38;5;28mstr\u001b[39m) \u001b[38;5;241m-\u001b[39m\u001b[38;5;241m>\u001b[39m \u001b[38;5;28mstr\u001b[39m:\n\u001b[0;32m----> 4\u001b[0m     \u001b[38;5;28;01mreturn\u001b[39;00m \u001b[38;5;124m'\u001b[39m\u001b[38;5;124mHello \u001b[39m\u001b[38;5;124m'\u001b[39m \u001b[38;5;241m+\u001b[39m name\n",
      "\u001b[0;31mTypeError\u001b[0m: can only concatenate str (not \"int\") to str"
     ]
    }
   ],
   "source": [
    "greeting(42)"
   ]
  },
  {
   "cell_type": "code",
   "execution_count": 4,
   "id": "5d7b3119",
   "metadata": {},
   "outputs": [],
   "source": [
    "def mult(x: float, y: float) -> float:\n",
    "    return x * y"
   ]
  },
  {
   "cell_type": "code",
   "execution_count": 5,
   "id": "2aaa8362",
   "metadata": {},
   "outputs": [
    {
     "data": {
      "text/plain": [
       "8.06"
      ]
     },
     "execution_count": 5,
     "metadata": {},
     "output_type": "execute_result"
    }
   ],
   "source": [
    "mult(3.1, 2.6)"
   ]
  },
  {
   "cell_type": "code",
   "execution_count": 6,
   "id": "c2d52570",
   "metadata": {},
   "outputs": [
    {
     "data": {
      "text/plain": [
       "15"
      ]
     },
     "execution_count": 6,
     "metadata": {},
     "output_type": "execute_result"
    }
   ],
   "source": [
    "mult(3,5)"
   ]
  },
  {
   "cell_type": "code",
   "execution_count": 7,
   "id": "8961152d",
   "metadata": {},
   "outputs": [
    {
     "data": {
      "text/plain": [
       "'hahahahahahaha'"
      ]
     },
     "execution_count": 7,
     "metadata": {},
     "output_type": "execute_result"
    }
   ],
   "source": [
    "mult(\"ha\",7)"
   ]
  },
  {
   "cell_type": "code",
   "execution_count": 8,
   "id": "fb7fc34c",
   "metadata": {},
   "outputs": [
    {
     "ename": "TypeError",
     "evalue": "can't multiply sequence by non-int of type 'str'",
     "output_type": "error",
     "traceback": [
      "\u001b[0;31m---------------------------------------------------------------------------\u001b[0m",
      "\u001b[0;31mTypeError\u001b[0m                                 Traceback (most recent call last)",
      "Cell \u001b[0;32mIn[8], line 1\u001b[0m\n\u001b[0;32m----> 1\u001b[0m \u001b[43mmult\u001b[49m\u001b[43m(\u001b[49m\u001b[38;5;124;43m'\u001b[39;49m\u001b[38;5;124;43mha\u001b[39;49m\u001b[38;5;124;43m'\u001b[39;49m\u001b[43m,\u001b[49m\u001b[38;5;124;43m'\u001b[39;49m\u001b[38;5;124;43mhe\u001b[39;49m\u001b[38;5;124;43m'\u001b[39;49m\u001b[43m)\u001b[49m\n",
      "Cell \u001b[0;32mIn[4], line 2\u001b[0m, in \u001b[0;36mmult\u001b[0;34m(x, y)\u001b[0m\n\u001b[1;32m      1\u001b[0m \u001b[38;5;28;01mdef\u001b[39;00m \u001b[38;5;21mmult\u001b[39m(x: \u001b[38;5;28mfloat\u001b[39m, y: \u001b[38;5;28mfloat\u001b[39m) \u001b[38;5;241m-\u001b[39m\u001b[38;5;241m>\u001b[39m \u001b[38;5;28mfloat\u001b[39m:\n\u001b[0;32m----> 2\u001b[0m     \u001b[38;5;28;01mreturn\u001b[39;00m \u001b[43mx\u001b[49m\u001b[43m \u001b[49m\u001b[38;5;241;43m*\u001b[39;49m\u001b[43m \u001b[49m\u001b[43my\u001b[49m\n",
      "\u001b[0;31mTypeError\u001b[0m: can't multiply sequence by non-int of type 'str'"
     ]
    }
   ],
   "source": [
    "mult('ha','he')"
   ]
  },
  {
   "cell_type": "markdown",
   "id": "5066e05c",
   "metadata": {},
   "source": [
    "# Classes and Objects"
   ]
  },
  {
   "cell_type": "markdown",
   "id": "d70ed29a",
   "metadata": {},
   "source": [
    "## Class vs Instance variables\n",
    "\n",
    "* Instance variables: \n",
    "    * Declared inside the `__init__` method. \n",
    "    * Tied to a particular object instance of the class. Values in one instance are completely independent from another instance.\n",
    "\n",
    "\n",
    "* Class variables: \n",
    "    * Declared inside the class definition, but outside any method. Usually right under the class statement.\n",
    "    * Shared by all instances of the class. \n",
    "    * Modifying a class variable affects all objects instance at the same time.\n"
   ]
  },
  {
   "cell_type": "code",
   "execution_count": null,
   "id": "4b0fba85",
   "metadata": {},
   "outputs": [],
   "source": [
    "class A:\n",
    "    x = 0\n",
    "    y = 7\n",
    "    def __init__(self, a):\n",
    "        self.x = a\n",
    "        A.x += 1"
   ]
  },
  {
   "cell_type": "code",
   "execution_count": null,
   "id": "e360da7c",
   "metadata": {},
   "outputs": [],
   "source": [
    "A.x"
   ]
  },
  {
   "cell_type": "code",
   "execution_count": null,
   "id": "6e78c86d",
   "metadata": {},
   "outputs": [],
   "source": [
    "A.y"
   ]
  },
  {
   "cell_type": "code",
   "execution_count": null,
   "id": "9db43fdd",
   "metadata": {},
   "outputs": [],
   "source": [
    "a1 = A(3)\n",
    "a1.x"
   ]
  },
  {
   "cell_type": "code",
   "execution_count": null,
   "id": "c692f0dc",
   "metadata": {},
   "outputs": [],
   "source": [
    "A.x"
   ]
  },
  {
   "cell_type": "code",
   "execution_count": null,
   "id": "22c8bfb6",
   "metadata": {},
   "outputs": [],
   "source": [
    "a1.y  # all instances of the class can access the class variable"
   ]
  },
  {
   "cell_type": "code",
   "execution_count": null,
   "id": "27453cb6",
   "metadata": {},
   "outputs": [],
   "source": [
    "A.y = 9"
   ]
  },
  {
   "cell_type": "code",
   "execution_count": null,
   "id": "9ced04fc",
   "metadata": {},
   "outputs": [],
   "source": [
    "a1.y"
   ]
  },
  {
   "cell_type": "code",
   "execution_count": null,
   "id": "d4be2d05",
   "metadata": {},
   "outputs": [],
   "source": [
    "a2 = A(5)\n",
    "print(a2.x, A.x, a2.y)"
   ]
  },
  {
   "cell_type": "code",
   "execution_count": null,
   "id": "24c93741",
   "metadata": {},
   "outputs": [],
   "source": [
    "class A:\n",
    "    x = 0\n",
    "    def __init__(self, a):\n",
    "        self.x = a\n",
    "        x = A.x + 1  # x is a local variable to the init method, not a class nor an instance variable\n",
    "        print(x)"
   ]
  },
  {
   "cell_type": "code",
   "execution_count": null,
   "id": "f8c43f26",
   "metadata": {},
   "outputs": [],
   "source": [
    "a2 = A(7)\n",
    "print(a2.x, A.x)"
   ]
  },
  {
   "cell_type": "markdown",
   "id": "f5dbff3b",
   "metadata": {},
   "source": [
    "## Example: University, Person, Student, Professor, Course"
   ]
  },
  {
   "cell_type": "code",
   "execution_count": 5,
   "id": "1074a0a8",
   "metadata": {},
   "outputs": [],
   "source": [
    "class University:\n",
    "    def __init__(self, name):\n",
    "        self.name = name\n",
    "        self.student_dict = {}   # key: ID, value: student object; to find a student object based on the student_id\n",
    "        self.course_dict = {}    # key: ID, value: course object; to find a course object based on the course_id\n",
    "        self.staff_dict = {}   # key: ID, value: staff object; to find staff object based on the student_id\n",
    "#    def __repr__(self):\n",
    "#        return self.name\n",
    "        \n",
    "class Person:\n",
    "    person_count = 0  # class variable\n",
    "    def __init__(self, first_name: str, last_name: str):\n",
    "        self.first_name = first_name\n",
    "        self.last_name = last_name\n",
    "        self.date_of_birth = None\n",
    "        Person.person_count += 1  ## count each additional person added\n",
    "    def get_full_name(self) -> str:\n",
    "        return self.first_name + ' ' + self.last_name\n",
    "\n",
    "class Student(Person):\n",
    "    good_gpa = 3.0  # class variable\n",
    "    def __init__(self, first_name: str, last_name: str, university: University, student_id: str):\n",
    "        super().__init__(first_name, last_name)  # initialize the super class Person\n",
    "        self.university = university\n",
    "        self.student_id = student_id\n",
    "        self.gpa = None\n",
    "        self.courses = []\n",
    "        university.student_dict[self.student_id] = self  # so we can look up the student by ID\n",
    "    def enroll(self, course) -> None:\n",
    "        self.courses.append(course)  # add course to student's courses\n",
    "        course.add_student(self)     # add student to course's students\n",
    "    def print_courses(self) -> None:\n",
    "        print(f\"\\nCourses for {self.get_full_name()}:\")\n",
    "        for course in self.courses:\n",
    "            print(f\" - {course.get_name()}\")\n",
    "    def good_standing(self):\n",
    "        return self.gpa >= Student.good_gpa\n",
    "\n",
    "class Professor(Person):\n",
    "    def __init__(self, first_name, last_name, university, professor_id):\n",
    "        super().__init__(first_name, last_name) \n",
    "        self.university = university\n",
    "        self.professor_id = professor_id\n",
    "        self.courses = []  # courses taught\n",
    "    def teaches(self, course):\n",
    "        self.courses.append(course)  # add course to professor's courses\n",
    "        course.add_professor(self)   # add professor to course's professors (calling Course method)\n",
    "    def print_courses(self):\n",
    "        print(f\"\\nCourses for {self.get_full_name()}:\")\n",
    "        for course in self.courses:\n",
    "            print(f\" - {course.get_name()}\")\n",
    "            \n",
    "class Course:\n",
    "    def __init__(self, university, course_id, name):\n",
    "        self.university = university\n",
    "        self.course_id = course_id\n",
    "        self.course_name = name\n",
    "        self.students = []\n",
    "        self.professors = []\n",
    "        university.course_dict[self.course_id] = self  # so we can look up the course by ID\n",
    "    def get_name(self) -> str:\n",
    "        return self.course_name\n",
    "    def add_student(self, student: Student) -> None:\n",
    "        self.students.append(student)\n",
    "    def add_professor(self, professor: Professor) -> None:\n",
    "        self.professors.append(professor)\n",
    "    def print_roster(self) -> None:\n",
    "        print(f\"\\nStudents in {self.course_name}:\")\n",
    "        for student in self.students:\n",
    "            print(f\" - {student.get_full_name()}\")\n",
    "\n",
    "usc = University(\"University of Southern California\")\n",
    "dsci510 = Course(usc, \"20221_dsci_510_32431\", \"Principles of Programming for Data Science\")\n",
    "dsci553 = Course(usc, \"20221_dsci_553_32418\", \"Foundations and Applications of Data Mining\")\n",
    "john = Student(\"John\", \"Smith\", usc, \"1234567890\")\n",
    "mary = Student(\"Mary\", \"Davis\", usc, \"1287654390\")\n",
    "john.enroll(dsci510)\n",
    "mary.enroll(dsci510)\n",
    "mary.enroll(dsci553)"
   ]
  },
  {
   "cell_type": "markdown",
   "id": "2b4d9856",
   "metadata": {},
   "source": [
    "## object.method(args) == Class.method(object, args)"
   ]
  },
  {
   "cell_type": "code",
   "execution_count": 6,
   "id": "df3b8343",
   "metadata": {},
   "outputs": [
    {
     "data": {
      "text/plain": [
       "'Principles of Programming for Data Science'"
      ]
     },
     "execution_count": 6,
     "metadata": {},
     "output_type": "execute_result"
    }
   ],
   "source": [
    "dsci510.get_name()"
   ]
  },
  {
   "cell_type": "code",
   "execution_count": 7,
   "id": "531ba664",
   "metadata": {},
   "outputs": [
    {
     "data": {
      "text/plain": [
       "'Principles of Programming for Data Science'"
      ]
     },
     "execution_count": 7,
     "metadata": {},
     "output_type": "execute_result"
    }
   ],
   "source": [
    "Course.get_name(dsci510)"
   ]
  },
  {
   "cell_type": "code",
   "execution_count": 13,
   "id": "d89d2d7a",
   "metadata": {},
   "outputs": [
    {
     "data": {
      "text/plain": [
       "'0x7fa544994a60'"
      ]
     },
     "execution_count": 13,
     "metadata": {},
     "output_type": "execute_result"
    }
   ],
   "source": [
    "hex(id(dsci510))"
   ]
  },
  {
   "cell_type": "code",
   "execution_count": 14,
   "id": "8278749e",
   "metadata": {},
   "outputs": [
    {
     "name": "stdout",
     "output_type": "stream",
     "text": [
      "<__main__.Professor object at 0x7fa544986e00>\n",
      "JL Ambite\n",
      "[<__main__.Course object at 0x7fa544994a60>, <__main__.Course object at 0x7fa544994580>]\n",
      "[('20221_dsci_510_32431', 'Principles of Programming for Data Science'), ('20221_dsci_553_32418', 'Foundations and Applications of Data Mining')]\n"
     ]
    }
   ],
   "source": [
    "jl = Professor('JL', 'Ambite', usc, 'P12345')\n",
    "jl.teaches(dsci510)              # normal method call style: object.method(args)\n",
    "Professor.teaches(jl, dsci553)   # Here you can see why the self parameter is needed\n",
    "print(jl)\n",
    "print(jl.get_full_name())\n",
    "print(jl.courses)\n",
    "print([ (c.course_id, c.course_name) for c in jl.courses])"
   ]
  },
  {
   "cell_type": "code",
   "execution_count": 15,
   "id": "4985e243",
   "metadata": {},
   "outputs": [
    {
     "name": "stdout",
     "output_type": "stream",
     "text": [
      "<__main__.Professor object at 0x7fa544984760>\n",
      "[<__main__.Course object at 0x7fa544994a60>]\n"
     ]
    }
   ],
   "source": [
    "ulf = Professor('Ulf', 'Hermjakob', usc, 'P12345789')\n",
    "Professor.teaches(ulf,dsci510)\n",
    "print(ulf)\n",
    "print(ulf.courses)"
   ]
  },
  {
   "cell_type": "markdown",
   "id": "942df31d",
   "metadata": {},
   "source": [
    "## Accessing/Navigating objects"
   ]
  },
  {
   "cell_type": "code",
   "execution_count": null,
   "id": "06d568a8",
   "metadata": {},
   "outputs": [],
   "source": [
    "for s in usc.student_dict.values():\n",
    "    s.print_courses()\n",
    "\n",
    "for c in usc.course_dict.values():\n",
    "    c.print_roster()"
   ]
  },
  {
   "cell_type": "code",
   "execution_count": null,
   "id": "121838b9",
   "metadata": {},
   "outputs": [],
   "source": [
    "print(mary.courses)\n",
    "print(usc.student_dict)"
   ]
  },
  {
   "cell_type": "code",
   "execution_count": null,
   "id": "4dcb2927",
   "metadata": {},
   "outputs": [],
   "source": [
    "usc.student_dict['1287654390']"
   ]
  },
  {
   "cell_type": "code",
   "execution_count": null,
   "id": "8921c05c",
   "metadata": {},
   "outputs": [],
   "source": [
    "usc.student_dict['1287654390'].first_name"
   ]
  },
  {
   "cell_type": "code",
   "execution_count": null,
   "id": "3d97d615",
   "metadata": {},
   "outputs": [],
   "source": [
    "usc.student_dict['1287654390'].get_full_name()"
   ]
  },
  {
   "cell_type": "code",
   "execution_count": null,
   "id": "3adae729",
   "metadata": {},
   "outputs": [],
   "source": [
    "usc.student_dict['1287654390'].courses"
   ]
  },
  {
   "cell_type": "code",
   "execution_count": null,
   "id": "f4c9ce1c",
   "metadata": {},
   "outputs": [],
   "source": [
    "usc.student_dict['1287654390'].courses[0]"
   ]
  },
  {
   "cell_type": "code",
   "execution_count": null,
   "id": "9968c3a2",
   "metadata": {},
   "outputs": [],
   "source": [
    "usc.student_dict['1287654390'].courses[0].course_name"
   ]
  },
  {
   "cell_type": "code",
   "execution_count": null,
   "id": "0f4a687f",
   "metadata": {},
   "outputs": [],
   "source": [
    "usc.student_dict['1287654390'].courses[0].students"
   ]
  },
  {
   "cell_type": "code",
   "execution_count": null,
   "id": "214c137c",
   "metadata": {},
   "outputs": [],
   "source": [
    "usc.student_dict['1287654390'].courses[0].students[1]"
   ]
  },
  {
   "cell_type": "code",
   "execution_count": null,
   "id": "d029a8dd",
   "metadata": {},
   "outputs": [],
   "source": [
    "usc.student_dict['1287654390'].courses[0].students[1].get_full_name()"
   ]
  },
  {
   "cell_type": "code",
   "execution_count": null,
   "id": "2e27fe52",
   "metadata": {},
   "outputs": [],
   "source": [
    "usc.student_dict['1287654390']"
   ]
  },
  {
   "cell_type": "code",
   "execution_count": null,
   "id": "a9458d7e",
   "metadata": {},
   "outputs": [],
   "source": [
    "print(mary.get_full_name(), mary)\n",
    "print(\"- mary's courses:\", mary.courses)\n",
    "\n",
    "for c in mary.courses:\n",
    "    print('-- course:', c.course_name, c)\n",
    "    print('--- profs:', c.professors)\n",
    "    for p in c.professors:\n",
    "        print('---- prof:', p.get_full_name(), p)"
   ]
  },
  {
   "cell_type": "code",
   "execution_count": null,
   "id": "1ca01d7e",
   "metadata": {},
   "outputs": [],
   "source": [
    "mary.courses[0].professors[0].get_full_name()"
   ]
  },
  {
   "cell_type": "markdown",
   "id": "8969665c",
   "metadata": {},
   "source": [
    "## isinstance(object, Class)"
   ]
  },
  {
   "cell_type": "code",
   "execution_count": null,
   "id": "778e6775",
   "metadata": {
    "scrolled": true
   },
   "outputs": [],
   "source": [
    "isinstance(usc, University)"
   ]
  },
  {
   "cell_type": "code",
   "execution_count": null,
   "id": "03610a18",
   "metadata": {},
   "outputs": [],
   "source": [
    "isinstance(usc, Person)"
   ]
  },
  {
   "cell_type": "code",
   "execution_count": null,
   "id": "6df1a16c",
   "metadata": {},
   "outputs": [],
   "source": [
    "isinstance(usc.student_dict['1287654390'], Student)"
   ]
  },
  {
   "cell_type": "code",
   "execution_count": null,
   "id": "896aa4c8",
   "metadata": {},
   "outputs": [],
   "source": [
    "isinstance(usc.student_dict['1287654390'].courses, Course)"
   ]
  },
  {
   "cell_type": "code",
   "execution_count": null,
   "id": "c78bf04b",
   "metadata": {},
   "outputs": [],
   "source": [
    "isinstance(usc.student_dict['1287654390'].courses, list)"
   ]
  },
  {
   "cell_type": "code",
   "execution_count": null,
   "id": "136283c3",
   "metadata": {},
   "outputs": [],
   "source": [
    "isinstance(usc.student_dict['1287654390'].courses[1], Course)"
   ]
  },
  {
   "cell_type": "markdown",
   "id": "107298e3",
   "metadata": {},
   "source": [
    "## issubclass(Class1, Class2)"
   ]
  },
  {
   "cell_type": "code",
   "execution_count": null,
   "id": "342698c1",
   "metadata": {},
   "outputs": [],
   "source": [
    "issubclass(Student, Person)"
   ]
  },
  {
   "cell_type": "code",
   "execution_count": null,
   "id": "15e0303f",
   "metadata": {},
   "outputs": [],
   "source": [
    "issubclass(University, Person)"
   ]
  },
  {
   "cell_type": "markdown",
   "id": "e4ea64c6",
   "metadata": {},
   "source": [
    "## Class vs Instance variables"
   ]
  },
  {
   "cell_type": "markdown",
   "id": "d7032b82",
   "metadata": {},
   "source": [
    "### Class variable: Person.person_count"
   ]
  },
  {
   "cell_type": "code",
   "execution_count": null,
   "id": "007bdf55",
   "metadata": {},
   "outputs": [],
   "source": [
    "print(Person.person_count)\n",
    "print(Student.person_count)\n",
    "print(Professor.person_count)\n",
    "print(mary.person_count)"
   ]
  },
  {
   "cell_type": "markdown",
   "id": "e3b01fe0",
   "metadata": {},
   "source": [
    "We defined 4 people: 2 students (john, mary), 2 professors (jl, ulf)\n",
    "\n",
    "The class variable person_count in Person keeps track of those.\n",
    "\n",
    "All instances and subclasses (and instances of sublasses) have that variable"
   ]
  },
  {
   "cell_type": "code",
   "execution_count": null,
   "id": "dbb7f071",
   "metadata": {
    "scrolled": true
   },
   "outputs": [],
   "source": [
    "john = Student(\"John\", \"Smith\", usc, \"1234509876\")\n",
    "print(john)\n",
    "print(Person.person_count)\n",
    "print(Student.person_count)\n",
    "print(john.person_count)"
   ]
  },
  {
   "cell_type": "code",
   "execution_count": null,
   "id": "c9715dc4",
   "metadata": {},
   "outputs": [],
   "source": [
    "print(mary)\n",
    "print(Person.person_count)\n",
    "print(Student.person_count)\n",
    "print(mary.person_count)"
   ]
  },
  {
   "cell_type": "code",
   "execution_count": null,
   "id": "3a1c2787",
   "metadata": {},
   "outputs": [],
   "source": [
    "print(jl)\n",
    "print(jl.person_count)\n",
    "print(john)\n",
    "print(john.person_count)"
   ]
  },
  {
   "cell_type": "markdown",
   "id": "6c8bdd24",
   "metadata": {},
   "source": [
    "### Class variable: Student.good_gpa"
   ]
  },
  {
   "cell_type": "code",
   "execution_count": 8,
   "id": "dc57ae85",
   "metadata": {},
   "outputs": [
    {
     "data": {
      "text/plain": [
       "True"
      ]
     },
     "execution_count": 8,
     "metadata": {},
     "output_type": "execute_result"
    }
   ],
   "source": [
    "mary.gpa = 3.2\n",
    "mary.good_standing()"
   ]
  },
  {
   "cell_type": "code",
   "execution_count": 9,
   "id": "addc6da1",
   "metadata": {},
   "outputs": [
    {
     "name": "stdout",
     "output_type": "stream",
     "text": [
      "3.0\n",
      "3.0\n"
     ]
    }
   ],
   "source": [
    "print(Student.good_gpa)\n",
    "print(mary.good_gpa)"
   ]
  },
  {
   "cell_type": "code",
   "execution_count": 10,
   "id": "95cf9503",
   "metadata": {},
   "outputs": [
    {
     "data": {
      "text/plain": [
       "False"
      ]
     },
     "execution_count": 10,
     "metadata": {},
     "output_type": "execute_result"
    }
   ],
   "source": [
    "john.gpa = 2.9\n",
    "john.good_standing()"
   ]
  },
  {
   "cell_type": "code",
   "execution_count": 11,
   "id": "9a93627f",
   "metadata": {},
   "outputs": [],
   "source": [
    "Student.good_gpa = 3.5"
   ]
  },
  {
   "cell_type": "code",
   "execution_count": 12,
   "id": "eff2a086",
   "metadata": {
    "scrolled": true
   },
   "outputs": [
    {
     "data": {
      "text/plain": [
       "False"
      ]
     },
     "execution_count": 12,
     "metadata": {},
     "output_type": "execute_result"
    }
   ],
   "source": [
    "mary.good_standing()"
   ]
  },
  {
   "cell_type": "code",
   "execution_count": 13,
   "id": "af70c91a",
   "metadata": {},
   "outputs": [],
   "source": [
    "mary.good_gpa = 2.5"
   ]
  },
  {
   "cell_type": "code",
   "execution_count": 14,
   "id": "2ee59c91",
   "metadata": {},
   "outputs": [
    {
     "data": {
      "text/plain": [
       "False"
      ]
     },
     "execution_count": 14,
     "metadata": {},
     "output_type": "execute_result"
    }
   ],
   "source": [
    "mary.good_standing()"
   ]
  },
  {
   "cell_type": "code",
   "execution_count": 15,
   "id": "672c5450",
   "metadata": {},
   "outputs": [
    {
     "data": {
      "text/plain": [
       "3.5"
      ]
     },
     "execution_count": 15,
     "metadata": {},
     "output_type": "execute_result"
    }
   ],
   "source": [
    "Student.good_gpa"
   ]
  },
  {
   "cell_type": "code",
   "execution_count": 16,
   "id": "7d64ad9d",
   "metadata": {},
   "outputs": [
    {
     "data": {
      "text/plain": [
       "False"
      ]
     },
     "execution_count": 16,
     "metadata": {},
     "output_type": "execute_result"
    }
   ],
   "source": [
    "john.good_standing()"
   ]
  },
  {
   "cell_type": "code",
   "execution_count": 17,
   "id": "22e95bf7",
   "metadata": {},
   "outputs": [],
   "source": [
    "john.gpa = 3.5"
   ]
  },
  {
   "cell_type": "code",
   "execution_count": 18,
   "id": "b3069ad3",
   "metadata": {},
   "outputs": [
    {
     "data": {
      "text/plain": [
       "True"
      ]
     },
     "execution_count": 18,
     "metadata": {},
     "output_type": "execute_result"
    }
   ],
   "source": [
    "john.good_standing()"
   ]
  },
  {
   "cell_type": "markdown",
   "id": "2f769223",
   "metadata": {},
   "source": [
    "## You can add attributes to an existing object, even if there were not defined in the class"
   ]
  },
  {
   "cell_type": "code",
   "execution_count": 19,
   "id": "60bc6b60",
   "metadata": {},
   "outputs": [
    {
     "data": {
      "text/plain": [
       "<__main__.Student at 0x1113d3550>"
      ]
     },
     "execution_count": 19,
     "metadata": {},
     "output_type": "execute_result"
    }
   ],
   "source": [
    "mary"
   ]
  },
  {
   "cell_type": "code",
   "execution_count": 20,
   "id": "0325924e",
   "metadata": {},
   "outputs": [],
   "source": [
    "mary.iscool = True"
   ]
  },
  {
   "cell_type": "code",
   "execution_count": 21,
   "id": "dacda17a",
   "metadata": {},
   "outputs": [
    {
     "data": {
      "text/plain": [
       "True"
      ]
     },
     "execution_count": 21,
     "metadata": {},
     "output_type": "execute_result"
    }
   ],
   "source": [
    "mary.iscool"
   ]
  },
  {
   "cell_type": "markdown",
   "id": "4f6eabf4",
   "metadata": {},
   "source": [
    "## `__dict__` keeps attributes of an object \n",
    "Useful for debugging, quick look at the state of the object.\n",
    "\n",
    "It keeps local attributes, it does not look at the hierarchy, it may not have all available attributes."
   ]
  },
  {
   "cell_type": "code",
   "execution_count": 22,
   "id": "44730ef5",
   "metadata": {},
   "outputs": [
    {
     "data": {
      "text/plain": [
       "{'first_name': 'Mary',\n",
       " 'last_name': 'Davis',\n",
       " 'date_of_birth': None,\n",
       " 'university': <__main__.University at 0x1114b5610>,\n",
       " 'student_id': '1287654390',\n",
       " 'gpa': 3.2,\n",
       " 'courses': [<__main__.Course at 0x1114b4c90>,\n",
       "  <__main__.Course at 0x1114b5a90>],\n",
       " 'good_gpa': 2.5,\n",
       " 'iscool': True}"
      ]
     },
     "execution_count": 22,
     "metadata": {},
     "output_type": "execute_result"
    }
   ],
   "source": [
    "mary.__dict__ "
   ]
  },
  {
   "cell_type": "code",
   "execution_count": 23,
   "id": "ccee64e5",
   "metadata": {},
   "outputs": [
    {
     "data": {
      "text/plain": [
       "mappingproxy({'__module__': '__main__',\n",
       "              'good_gpa': 3.5,\n",
       "              '__init__': <function __main__.Student.__init__(self, first_name: str, last_name: str, university: __main__.University, student_id: str)>,\n",
       "              'enroll': <function __main__.Student.enroll(self, course) -> None>,\n",
       "              'print_courses': <function __main__.Student.print_courses(self) -> None>,\n",
       "              'good_standing': <function __main__.Student.good_standing(self)>,\n",
       "              '__doc__': None})"
      ]
     },
     "execution_count": 23,
     "metadata": {},
     "output_type": "execute_result"
    }
   ],
   "source": [
    "Student.__dict__"
   ]
  },
  {
   "cell_type": "markdown",
   "id": "593025dd",
   "metadata": {},
   "source": [
    "## dir() returns attributes and methods of an object\n",
    "dir() looks at \\_\\_dict\\_\\_ (if it exists), and also at the hierachy to fund all attributes and methods"
   ]
  },
  {
   "cell_type": "code",
   "execution_count": 24,
   "id": "683cd737",
   "metadata": {},
   "outputs": [
    {
     "name": "stdout",
     "output_type": "stream",
     "text": [
      "['__class__', '__delattr__', '__dict__', '__dir__', '__doc__', '__eq__', '__format__', '__ge__', '__getattribute__', '__getstate__', '__gt__', '__hash__', '__init__', '__init_subclass__', '__le__', '__lt__', '__module__', '__ne__', '__new__', '__reduce__', '__reduce_ex__', '__repr__', '__setattr__', '__sizeof__', '__str__', '__subclasshook__', '__weakref__', 'courses', 'date_of_birth', 'enroll', 'first_name', 'get_full_name', 'good_gpa', 'good_standing', 'gpa', 'iscool', 'last_name', 'person_count', 'print_courses', 'student_id', 'university']\n"
     ]
    }
   ],
   "source": [
    "print(dir(mary))"
   ]
  },
  {
   "cell_type": "markdown",
   "id": "9f7d7172",
   "metadata": {},
   "source": [
    "## help()"
   ]
  },
  {
   "cell_type": "code",
   "execution_count": 25,
   "id": "77db2f08",
   "metadata": {},
   "outputs": [
    {
     "name": "stdout",
     "output_type": "stream",
     "text": [
      "Help on class Person in module __main__:\n",
      "\n",
      "class Person(builtins.object)\n",
      " |  Person(first_name: str, last_name: str)\n",
      " |  \n",
      " |  Methods defined here:\n",
      " |  \n",
      " |  __init__(self, first_name: str, last_name: str)\n",
      " |      Initialize self.  See help(type(self)) for accurate signature.\n",
      " |  \n",
      " |  get_full_name(self) -> str\n",
      " |  \n",
      " |  ----------------------------------------------------------------------\n",
      " |  Data descriptors defined here:\n",
      " |  \n",
      " |  __dict__\n",
      " |      dictionary for instance variables (if defined)\n",
      " |  \n",
      " |  __weakref__\n",
      " |      list of weak references to the object (if defined)\n",
      " |  \n",
      " |  ----------------------------------------------------------------------\n",
      " |  Data and other attributes defined here:\n",
      " |  \n",
      " |  person_count = 2\n",
      "\n"
     ]
    }
   ],
   "source": [
    "help(Person)"
   ]
  },
  {
   "cell_type": "code",
   "execution_count": 26,
   "id": "d67eaa53",
   "metadata": {},
   "outputs": [
    {
     "name": "stdout",
     "output_type": "stream",
     "text": [
      "Help on class Student in module __main__:\n",
      "\n",
      "class Student(Person)\n",
      " |  Student(first_name: str, last_name: str, university: __main__.University, student_id: str)\n",
      " |  \n",
      " |  Method resolution order:\n",
      " |      Student\n",
      " |      Person\n",
      " |      builtins.object\n",
      " |  \n",
      " |  Methods defined here:\n",
      " |  \n",
      " |  __init__(self, first_name: str, last_name: str, university: __main__.University, student_id: str)\n",
      " |      Initialize self.  See help(type(self)) for accurate signature.\n",
      " |  \n",
      " |  enroll(self, course) -> None\n",
      " |  \n",
      " |  good_standing(self)\n",
      " |  \n",
      " |  print_courses(self) -> None\n",
      " |  \n",
      " |  ----------------------------------------------------------------------\n",
      " |  Data and other attributes defined here:\n",
      " |  \n",
      " |  good_gpa = 3.5\n",
      " |  \n",
      " |  ----------------------------------------------------------------------\n",
      " |  Methods inherited from Person:\n",
      " |  \n",
      " |  get_full_name(self) -> str\n",
      " |  \n",
      " |  ----------------------------------------------------------------------\n",
      " |  Data descriptors inherited from Person:\n",
      " |  \n",
      " |  __dict__\n",
      " |      dictionary for instance variables (if defined)\n",
      " |  \n",
      " |  __weakref__\n",
      " |      list of weak references to the object (if defined)\n",
      " |  \n",
      " |  ----------------------------------------------------------------------\n",
      " |  Data and other attributes inherited from Person:\n",
      " |  \n",
      " |  person_count = 2\n",
      "\n"
     ]
    }
   ],
   "source": [
    "help(Student)"
   ]
  },
  {
   "cell_type": "code",
   "execution_count": null,
   "id": "5a7026bd",
   "metadata": {},
   "outputs": [],
   "source": []
  },
  {
   "cell_type": "code",
   "execution_count": null,
   "id": "53bec25e",
   "metadata": {},
   "outputs": [],
   "source": []
  }
 ],
 "metadata": {
  "kernelspec": {
   "display_name": "Python 3 (ipykernel)",
   "language": "python",
   "name": "python3"
  },
  "language_info": {
   "codemirror_mode": {
    "name": "ipython",
    "version": 3
   },
   "file_extension": ".py",
   "mimetype": "text/x-python",
   "name": "python",
   "nbconvert_exporter": "python",
   "pygments_lexer": "ipython3",
   "version": "3.11.5"
  }
 },
 "nbformat": 4,
 "nbformat_minor": 5
}
